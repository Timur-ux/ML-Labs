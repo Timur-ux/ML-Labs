{
 "cells": [
  {
   "cell_type": "markdown",
   "id": "ec6e7d18-6a6e-4a51-a7cd-0a1152604973",
   "metadata": {},
   "source": [
    "## Лабораторная работа №1 | Вариант 2"
   ]
  },
  {
   "cell_type": "markdown",
   "id": "277877ce-f982-4711-a6a6-2a4a90871409",
   "metadata": {},
   "source": [
    "Выполнил: Бучкин Тимур Артемович М8О-301Б-22"
   ]
  },
  {
   "cell_type": "markdown",
   "id": "031f025d-84dc-470f-b839-456a76d9636b",
   "metadata": {},
   "source": [
    "### 1. Numpy"
   ]
  },
  {
   "cell_type": "code",
   "execution_count": 43,
   "id": "8a2c6f8d-e85b-4982-ba6d-77ffdb7d53e8",
   "metadata": {},
   "outputs": [],
   "source": [
    "import numpy as np\n"
   ]
  },
  {
   "cell_type": "markdown",
   "id": "6ff3559d-5f3e-4540-9a31-bfb9f42a23da",
   "metadata": {},
   "source": [
    "1. Создайте матрицу размером 8х8 и заполните ее шахматным рисунком"
   ]
  },
  {
   "cell_type": "code",
   "execution_count": 44,
   "id": "752bc586-1e3f-4085-85c3-4068b781314f",
   "metadata": {},
   "outputs": [
    {
     "data": {
      "text/plain": [
       "array([['W', 'B', 'W', 'B', 'W', 'B', 'W', 'B'],\n",
       "       ['B', 'W', 'B', 'W', 'B', 'W', 'B', 'W'],\n",
       "       ['W', 'B', 'W', 'B', 'W', 'B', 'W', 'B'],\n",
       "       ['B', 'W', 'B', 'W', 'B', 'W', 'B', 'W'],\n",
       "       ['W', 'B', 'W', 'B', 'W', 'B', 'W', 'B'],\n",
       "       ['B', 'W', 'B', 'W', 'B', 'W', 'B', 'W'],\n",
       "       ['W', 'B', 'W', 'B', 'W', 'B', 'W', 'B'],\n",
       "       ['B', 'W', 'B', 'W', 'B', 'W', 'B', 'W']], dtype='<U1')"
      ]
     },
     "execution_count": 44,
     "metadata": {},
     "output_type": "execute_result"
    }
   ],
   "source": [
    "slot = np.asarray([['W', 'B'], ['B', 'W']])\n",
    "np.tile(slot, (4, 4))\n"
   ]
  },
  {
   "cell_type": "markdown",
   "id": "0243a0f6-1905-4e2d-9572-9ba49dc003a8",
   "metadata": {},
   "source": [
    "2. Каков результат выполнения следующих выражений?\n",
    "\n",
    "```python\n",
    "np.array(0) / np.array(0)\n",
    "np.array(0) // np.array(0)\n",
    "np.array([np.nan]).astype(int).astype(float)\n",
    "```"
   ]
  },
  {
   "cell_type": "markdown",
   "id": "efcf8761",
   "metadata": {},
   "source": [
    "В первом случае значение не определено(np.nan, типа бесконечность)\n",
    "Во втором будет 0\n",
    "В третьем после привидения к int получиться 4 байта из 1ц. Т.е. минимально возможный int, а потом он привидется к числу с плавающей точкой и таким же значением(array([-2.14748365e+09]))\n",
    "\n",
    "Ну и т.к. все операции производятся над массивами, то и вышеописанные результаты будут лежать в массиве."
   ]
  },
  {
   "cell_type": "markdown",
   "id": "8c7d3811-a555-4c02-ada8-e4a70b9dee46",
   "metadata": {},
   "source": [
    "3. Создайте матрицу-шахматную доску 8х8 используя функцию `tile`"
   ]
  },
  {
   "cell_type": "code",
   "execution_count": 45,
   "id": "12d0ed34-908c-4840-8b81-457e64dd7b0b",
   "metadata": {},
   "outputs": [
    {
     "data": {
      "text/plain": [
       "array([['W', 'B', 'W', 'B', 'W', 'B', 'W', 'B'],\n",
       "       ['B', 'W', 'B', 'W', 'B', 'W', 'B', 'W'],\n",
       "       ['W', 'B', 'W', 'B', 'W', 'B', 'W', 'B'],\n",
       "       ['B', 'W', 'B', 'W', 'B', 'W', 'B', 'W'],\n",
       "       ['W', 'B', 'W', 'B', 'W', 'B', 'W', 'B'],\n",
       "       ['B', 'W', 'B', 'W', 'B', 'W', 'B', 'W'],\n",
       "       ['W', 'B', 'W', 'B', 'W', 'B', 'W', 'B'],\n",
       "       ['B', 'W', 'B', 'W', 'B', 'W', 'B', 'W']], dtype='<U1')"
      ]
     },
     "execution_count": 45,
     "metadata": {},
     "output_type": "execute_result"
    }
   ],
   "source": [
    "slot = np.asarray([['W', 'B'], ['B', 'W']])\n",
    "np.tile(slot, (4, 4))\n"
   ]
  },
  {
   "cell_type": "markdown",
   "id": "b7ca56e6-a194-4c42-b8a2-307fcf40f648",
   "metadata": {},
   "source": [
    "4. Как округлить до целых массив чисел с плавающей точкой?"
   ]
  },
  {
   "cell_type": "code",
   "execution_count": 46,
   "id": "1b1d64cd-0e28-400f-8d49-a1274947e150",
   "metadata": {},
   "outputs": [
    {
     "data": {
      "text/plain": [
       "(array([[  3.3122152 ,   9.82303927,   3.04792184],\n",
       "        [ -3.19140273,  -0.68327189, -20.5092351 ],\n",
       "        [ 12.08593899,  17.66571889,  -1.43949546],\n",
       "        [ -4.70566383,   8.88284935, -14.44201831]]),\n",
       " array([[  3.,   9.,   3.],\n",
       "        [ -3.,  -0., -20.],\n",
       "        [ 12.,  17.,  -1.],\n",
       "        [ -4.,   8., -14.]]))"
      ]
     },
     "execution_count": 46,
     "metadata": {},
     "output_type": "execute_result"
    }
   ],
   "source": [
    "a = np.random.randn(4, 3) * 10\n",
    "a, np.trunc(a)\n"
   ]
  },
  {
   "cell_type": "markdown",
   "id": "b3b2cd1e-e996-45e0-b9ed-e12ce653a9c3",
   "metadata": {},
   "source": [
    "5. Как найти общие значения между двумя массивами?"
   ]
  },
  {
   "cell_type": "code",
   "execution_count": 47,
   "id": "c40ef785-d750-42ba-ac6e-b777866202a6",
   "metadata": {},
   "outputs": [
    {
     "data": {
      "text/plain": [
       "array([5])"
      ]
     },
     "execution_count": 47,
     "metadata": {},
     "output_type": "execute_result"
    }
   ],
   "source": [
    "a = np.asarray([[1, 2, 4], [3, 4, 5]])\n",
    "b = np.asarray([[5, 4, 3, 4, 1, 5]])\n",
    "\n",
    "# Найдем общие значения в линеаризованном виде\n",
    "a.ravel()[a.ravel() == b.ravel()]\n"
   ]
  },
  {
   "cell_type": "markdown",
   "id": "8108b3a8-5ba8-472d-ad6b-095ade8678ef",
   "metadata": {},
   "source": [
    "6. Как вычислить ((A+B)*(-A/2)) на месте (без копирования)?"
   ]
  },
  {
   "cell_type": "code",
   "execution_count": 48,
   "id": "89b58c0a-bd5d-435a-be45-719fdfce662a",
   "metadata": {},
   "outputs": [
    {
     "name": "stdout",
     "output_type": "stream",
     "text": [
      "[[-0.14561576 -7.84593046  1.21967806]\n",
      " [-3.91548835  0.54747599  0.33903913]\n",
      " [-3.80921487 -4.54802446 -7.98088002]]\n",
      "[[-0.69619268  0.98679861  4.78980174]\n",
      " [ 3.69253412  5.09967858  2.42226197]\n",
      " [-2.93500871 -2.5183868   3.73794524]]\n"
     ]
    },
    {
     "data": {
      "text/plain": [
       "array([[ -0.06129029, -26.90813573,  -3.66481533],\n",
       "       [ -0.43648734,  -1.54584078,  -0.46809455],\n",
       "       [-12.84509837, -16.06910562, -16.93117669]])"
      ]
     },
     "execution_count": 48,
     "metadata": {},
     "output_type": "execute_result"
    }
   ],
   "source": [
    "A = np.random.randn(3, 3) * 5\n",
    "B = np.random.randn(3, 3) * 5\n",
    "\n",
    "# Сначала в к B прибавим A на месте, а потом умножим на (-А/2)\n",
    "\n",
    "print(A, B, sep='\\n')\n",
    "\n",
    "B.__iadd__(A)\n",
    "B.__imul__(-A/2)\n",
    "\n",
    "B\n"
   ]
  },
  {
   "cell_type": "markdown",
   "id": "98511652-db85-4506-a5b8-f94b05d35ce9",
   "metadata": {},
   "source": [
    "7. Рассмотрим случайный вектор с формой 100х2, представляющей координаты, и найдем расстояния от точки к точке"
   ]
  },
  {
   "cell_type": "code",
   "execution_count": 49,
   "id": "ca72cdb0-ed24-460d-81a9-220b850d62c3",
   "metadata": {},
   "outputs": [
    {
     "data": {
      "text/plain": [
       "array([[0.        , 3.14432678, 3.73397373, ..., 2.00142074, 1.83237585,\n",
       "        2.8208215 ],\n",
       "       [3.14432678, 0.        , 3.10926361, ..., 1.1436967 , 2.42723952,\n",
       "        2.0948048 ],\n",
       "       [3.73397373, 3.10926361, 0.        , ..., 3.02280479, 1.90517886,\n",
       "        1.1458058 ],\n",
       "       ...,\n",
       "       [2.00142074, 1.1436967 , 3.02280479, ..., 0.        , 1.66715988,\n",
       "        1.87720911],\n",
       "       [1.83237585, 2.42723952, 1.90517886, ..., 1.66715988, 0.        ,\n",
       "        1.06034996],\n",
       "       [2.8208215 , 2.0948048 , 1.1458058 , ..., 1.87720911, 1.06034996,\n",
       "        0.        ]])"
      ]
     },
     "execution_count": 49,
     "metadata": {},
     "output_type": "execute_result"
    }
   ],
   "source": [
    "# Я так понимаю, что надо найти расстояния между каждой парой точек\n",
    "\n",
    "points = np.random.randn(100, 2)\n",
    "# points = np.asarray([[-1, -2], [3, 4], [5, 6]]) # Для отладки\n",
    "\n",
    "points_rows = np.tile(points, points.shape[0]).reshape(\n",
    "    (points.shape[0], points.shape[0], 2))\n",
    "points_cols = points_rows.transpose((1, 0, 2))\n",
    "\n",
    "diff = points_rows - points_cols\n",
    "distances = np.sqrt(diff[:, :, 0] ** 2 + diff[:, :, 1] ** 2)\n",
    "\n",
    "# distances[i][j] -- расстояние между точками points[i] и points[j]\n",
    "distances\n"
   ]
  },
  {
   "cell_type": "markdown",
   "id": "1412a70a-2a1e-406e-a227-afc9a47ed659",
   "metadata": {},
   "source": [
    "8. Как конвертировать массив float(32 bit) к массиву целых чисел (integer 32 bit) in place?"
   ]
  },
  {
   "cell_type": "code",
   "execution_count": 50,
   "id": "22bb8bbf-52dd-4d3c-86c0-c4e9637b909b",
   "metadata": {},
   "outputs": [
    {
     "name": "stdout",
     "output_type": "stream",
     "text": [
      "float32\n",
      "int32\n",
      "-2.139568\n",
      "0.0\n"
     ]
    }
   ],
   "source": [
    "n, m = 2, 3\n",
    "a = np.random.randn(2, 3).astype(np.float32)\n",
    "\n",
    "b = a.view(np.int32)\n",
    "print(a.dtype)\n",
    "print(b.dtype)\n",
    "\n",
    "# Проверим, что преобразование было без копирования\n",
    "print(a[0][0])\n",
    "b[0][0] = 0\n",
    "print(a[0][0])\n"
   ]
  },
  {
   "cell_type": "markdown",
   "id": "f7dc66bf-f7c8-4d78-834b-451651f6839a",
   "metadata": {},
   "source": [
    "9. Создайте структурированный массив, представляющий позицию (x, y) и цвет (r, g, b)."
   ]
  },
  {
   "cell_type": "code",
   "execution_count": 51,
   "id": "0ecf5586-d30e-4256-ab93-7ff9bab0b34b",
   "metadata": {},
   "outputs": [
    {
     "name": "stdout",
     "output_type": "stream",
     "text": [
      "[[ 1.62289253  0.16347137  0.21726047  1.03468284 -0.49572632]\n",
      " [-0.66025641  1.8463697  -0.13238042  0.43526363  0.88639105]\n",
      " [-0.98486467 -1.13105767 -0.52282218 -0.9784413  -0.00797761]\n",
      " [ 0.07085503 -1.19372648  0.7672528  -0.02397392 -1.00200009]\n",
      " [ 0.42566838  0.15413606 -0.07829689 -0.74989526 -0.82149583]\n",
      " [ 0.7364291   0.12120891  0.27469821 -0.05479438 -0.24790822]\n",
      " [-1.62681825 -0.59720075  2.11109794  0.18611432 -0.67329328]\n",
      " [-0.76432099  1.27098808 -0.07137721  1.55754431  1.12329411]\n",
      " [-0.86728708  1.1034775   0.1493576   0.82343645  0.05240553]\n",
      " [ 0.23487093  0.21068158 -1.58331084  0.09845558 -0.45417099]]\n"
     ]
    },
    {
     "data": {
      "text/plain": [
       "(array([ 0.07085503, -1.19372648]),\n",
       " array([ 0.7672528 , -0.02397392, -1.00200009]))"
      ]
     },
     "execution_count": 51,
     "metadata": {},
     "output_type": "execute_result"
    }
   ],
   "source": [
    "# Можно хранить эту пару вместе ([x, y, r, g, b])\n",
    "N = 10 # Количество записей\n",
    "\n",
    "items = np.random.randn(N, 5) # Заполнил случайными величинами, потому что больше не из чего\n",
    "\n",
    "def pos(item):\n",
    "  return item[:2]\n",
    "\n",
    "def color(item):\n",
    "  return item[2:]\n",
    "\n",
    "print(items)\n",
    "pos(items[3]), color(items[3])"
   ]
  },
  {
   "cell_type": "markdown",
   "id": "a66194f1-0099-4808-8ebf-5cf10eee5071",
   "metadata": {},
   "source": [
    "10. Какой эквивалент enumerate для numpy массивов?"
   ]
  },
  {
   "cell_type": "code",
   "execution_count": 52,
   "id": "07ed452c-3f7c-40a7-a5b5-716602a5eed9",
   "metadata": {},
   "outputs": [
    {
     "name": "stdout",
     "output_type": "stream",
     "text": [
      "(0, 0) -1.9508825975719104\n",
      "(0, 1) 0.9421138110923999\n",
      "(1, 0) -1.1984193917169172\n",
      "(1, 1) -1.426260121414932\n",
      "(2, 0) -0.6907479783160054\n",
      "(2, 1) -0.8134329744804106\n"
     ]
    }
   ],
   "source": [
    "# np.ndenumerate\n",
    "\n",
    "a = np.random.randn(3, 2)\n",
    "\n",
    "for i, item in np.ndenumerate(a):\n",
    "  print(i, item)\n"
   ]
  },
  {
   "cell_type": "markdown",
   "id": "5bd0f757-bb01-4afb-b4f0-6821b5c5b2b7",
   "metadata": {},
   "source": [
    "### 2. Pandas"
   ]
  },
  {
   "cell_type": "markdown",
   "id": "bdffd013-e573-4318-8062-65ae1c5e07e8",
   "metadata": {},
   "source": [
    "Найдите ответы на вопросы или выполните действия с предложенным датасетом \n",
    "\n",
    "Данные о преступлениях, совершенных женщинами в Индии, с демографическими подробностями.\n",
    "\n",
    "Файл: `CrimesOnWomenData.csv`\n",
    "\n",
    "```\n",
    "State - название штата/региона\n",
    "Year - год записи\n",
    "Rape - случаи изнасилования\n",
    "K&A - случаи похищения \n",
    "DD - смерти из-за приданого\n",
    "AoW - нападение на женщин\n",
    "AoM - нападение на женскую скромность(modestity)\n",
    "DV - бытовое насилие\n",
    "WT - торговля женщинами\n",
    "```"
   ]
  },
  {
   "cell_type": "code",
   "execution_count": 53,
   "id": "0778ec2b-a7b2-4738-b771-bb1781986f62",
   "metadata": {},
   "outputs": [],
   "source": [
    "import pandas as pd\n"
   ]
  },
  {
   "cell_type": "code",
   "execution_count": 54,
   "id": "bfc45614-d44b-49bd-a55c-c410a95a808f",
   "metadata": {},
   "outputs": [
    {
     "data": {
      "text/html": [
       "<div>\n",
       "<style scoped>\n",
       "    .dataframe tbody tr th:only-of-type {\n",
       "        vertical-align: middle;\n",
       "    }\n",
       "\n",
       "    .dataframe tbody tr th {\n",
       "        vertical-align: top;\n",
       "    }\n",
       "\n",
       "    .dataframe thead th {\n",
       "        text-align: right;\n",
       "    }\n",
       "</style>\n",
       "<table border=\"1\" class=\"dataframe\">\n",
       "  <thead>\n",
       "    <tr style=\"text-align: right;\">\n",
       "      <th></th>\n",
       "      <th>Unnamed: 0</th>\n",
       "      <th>State</th>\n",
       "      <th>Year</th>\n",
       "      <th>Rape</th>\n",
       "      <th>K&amp;A</th>\n",
       "      <th>DD</th>\n",
       "      <th>AoW</th>\n",
       "      <th>AoM</th>\n",
       "      <th>DV</th>\n",
       "      <th>WT</th>\n",
       "    </tr>\n",
       "  </thead>\n",
       "  <tbody>\n",
       "    <tr>\n",
       "      <th>0</th>\n",
       "      <td>0</td>\n",
       "      <td>ANDHRA PRADESH</td>\n",
       "      <td>2001</td>\n",
       "      <td>871</td>\n",
       "      <td>765</td>\n",
       "      <td>420</td>\n",
       "      <td>3544</td>\n",
       "      <td>2271</td>\n",
       "      <td>5791</td>\n",
       "      <td>7</td>\n",
       "    </tr>\n",
       "    <tr>\n",
       "      <th>1</th>\n",
       "      <td>1</td>\n",
       "      <td>ARUNACHAL PRADESH</td>\n",
       "      <td>2001</td>\n",
       "      <td>33</td>\n",
       "      <td>55</td>\n",
       "      <td>0</td>\n",
       "      <td>78</td>\n",
       "      <td>3</td>\n",
       "      <td>11</td>\n",
       "      <td>0</td>\n",
       "    </tr>\n",
       "    <tr>\n",
       "      <th>2</th>\n",
       "      <td>2</td>\n",
       "      <td>ASSAM</td>\n",
       "      <td>2001</td>\n",
       "      <td>817</td>\n",
       "      <td>1070</td>\n",
       "      <td>59</td>\n",
       "      <td>850</td>\n",
       "      <td>4</td>\n",
       "      <td>1248</td>\n",
       "      <td>0</td>\n",
       "    </tr>\n",
       "    <tr>\n",
       "      <th>3</th>\n",
       "      <td>3</td>\n",
       "      <td>BIHAR</td>\n",
       "      <td>2001</td>\n",
       "      <td>888</td>\n",
       "      <td>518</td>\n",
       "      <td>859</td>\n",
       "      <td>562</td>\n",
       "      <td>21</td>\n",
       "      <td>1558</td>\n",
       "      <td>83</td>\n",
       "    </tr>\n",
       "    <tr>\n",
       "      <th>4</th>\n",
       "      <td>4</td>\n",
       "      <td>CHHATTISGARH</td>\n",
       "      <td>2001</td>\n",
       "      <td>959</td>\n",
       "      <td>171</td>\n",
       "      <td>70</td>\n",
       "      <td>1763</td>\n",
       "      <td>161</td>\n",
       "      <td>840</td>\n",
       "      <td>0</td>\n",
       "    </tr>\n",
       "  </tbody>\n",
       "</table>\n",
       "</div>"
      ],
      "text/plain": [
       "   Unnamed: 0              State  Year  Rape   K&A   DD   AoW   AoM    DV  WT\n",
       "0           0     ANDHRA PRADESH  2001   871   765  420  3544  2271  5791   7\n",
       "1           1  ARUNACHAL PRADESH  2001    33    55    0    78     3    11   0\n",
       "2           2              ASSAM  2001   817  1070   59   850     4  1248   0\n",
       "3           3              BIHAR  2001   888   518  859   562    21  1558  83\n",
       "4           4       CHHATTISGARH  2001   959   171   70  1763   161   840   0"
      ]
     },
     "execution_count": 54,
     "metadata": {},
     "output_type": "execute_result"
    }
   ],
   "source": [
    "# Load dataset here\n",
    "df = pd.read_csv('CrimesOnWomenData.csv')\n",
    "df.head(5)"
   ]
  },
  {
   "cell_type": "markdown",
   "id": "1026e8c6-513a-41e3-b2f4-68aae18b8435",
   "metadata": {},
   "source": [
    "1. За какие года представлен набор данных?"
   ]
  },
  {
   "cell_type": "code",
   "execution_count": 55,
   "id": "e74655aa-b97c-42e5-b972-e0753ddc2331",
   "metadata": {},
   "outputs": [
    {
     "data": {
      "text/plain": [
       "(2001, 2021)"
      ]
     },
     "execution_count": 55,
     "metadata": {},
     "output_type": "execute_result"
    }
   ],
   "source": [
    "year_min, year_max = df[\"Year\"].min(), df[\"Year\"].max()\n",
    "year_min, year_max"
   ]
  },
  {
   "cell_type": "markdown",
   "id": "eee028a5-9311-4a4f-b4ac-1fb75acfb4b3",
   "metadata": {},
   "source": [
    "2. Выявите район с самым высоким количеством убийств женщин"
   ]
  },
  {
   "cell_type": "code",
   "execution_count": 56,
   "id": "ac0fb641-96d2-4e7c-88d5-636ce3b699d2",
   "metadata": {},
   "outputs": [
    {
     "data": {
      "text/plain": [
       "582    Uttar Pradesh\n",
       "Name: State, dtype: object"
      ]
     },
     "execution_count": 56,
     "metadata": {},
     "output_type": "execute_result"
    }
   ],
   "source": [
    "# Т.к. именно убиства упоминаются только в колонке DD -- буду искать по ней\n",
    "\n",
    "df[df[\"DD\"] == df[\"DD\"].max()][\"State\"]"
   ]
  },
  {
   "cell_type": "markdown",
   "id": "cd7979ba-2fa8-4fd3-986d-26cee122da1f",
   "metadata": {},
   "source": [
    "3. Какое среднее число изнасилований женщин в индии наблюдалось в указанные года?"
   ]
  },
  {
   "cell_type": "code",
   "execution_count": 57,
   "id": "3915f77b-116c-482b-8644-2f5f11931af9",
   "metadata": {},
   "outputs": [
    {
     "data": {
      "text/plain": [
       "26785.1"
      ]
     },
     "execution_count": 57,
     "metadata": {},
     "output_type": "execute_result"
    }
   ],
   "source": [
    "np.sum(df[\"Rape\"]) / (year_max - year_min)"
   ]
  },
  {
   "cell_type": "markdown",
   "id": "1b69ba67-61a8-4765-9795-cfab1a09e929",
   "metadata": {},
   "source": [
    "4. Выявите район с минимальным числом похищений за период 2001-2003 года"
   ]
  },
  {
   "cell_type": "code",
   "execution_count": 58,
   "id": "1228d2e9-fc56-4240-95c6-c98a8b84c016",
   "metadata": {},
   "outputs": [
    {
     "data": {
      "text/plain": [
       "32     LAKSHADWEEP\n",
       "66     LAKSHADWEEP\n",
       "90          SIKKIM\n",
       "100    LAKSHADWEEP\n",
       "Name: State, dtype: object"
      ]
     },
     "execution_count": 58,
     "metadata": {},
     "output_type": "execute_result"
    }
   ],
   "source": [
    "rows = df[(df[\"Year\"] >= 2001) & (df[\"Year\"] <= 2003)]\n",
    "rows[rows[\"K&A\"] == rows[\"K&A\"].min()][\"State\"]"
   ]
  },
  {
   "cell_type": "markdown",
   "id": "5acec4fd-f740-49a8-a5d8-562d358239c9",
   "metadata": {},
   "source": [
    "5. Перечислите районы в которых наблюдались наиболее частые случае домашнего насилия за период с 2005 по 2012 года"
   ]
  },
  {
   "cell_type": "code",
   "execution_count": 59,
   "id": "cac8daef-f4e8-4c8b-b7f4-d41a6adf35ed",
   "metadata": {},
   "outputs": [
    {
     "data": {
      "text/plain": [
       "404    West Bengal\n",
       "Name: State, dtype: object"
      ]
     },
     "execution_count": 59,
     "metadata": {},
     "output_type": "execute_result"
    }
   ],
   "source": [
    "rows = df[(df[\"Year\"] >= 2005) & (df[\"Year\"] <= 2012)]\n",
    "rows[rows[\"DV\"] == rows[\"DV\"].max()][\"State\"]"
   ]
  },
  {
   "cell_type": "markdown",
   "id": "8d6171a9-0f75-4f3e-ac54-95d03d1f70b6",
   "metadata": {},
   "source": [
    "6. Выведите названия районов в порядке не возрастания случаев торговли женщинами за 2020 год"
   ]
  },
  {
   "cell_type": "code",
   "execution_count": 60,
   "id": "c64d0892-2fb8-4304-966c-5cbb32b03c0a",
   "metadata": {},
   "outputs": [
    {
     "data": {
      "text/html": [
       "<div>\n",
       "<style scoped>\n",
       "    .dataframe tbody tr th:only-of-type {\n",
       "        vertical-align: middle;\n",
       "    }\n",
       "\n",
       "    .dataframe tbody tr th {\n",
       "        vertical-align: top;\n",
       "    }\n",
       "\n",
       "    .dataframe thead th {\n",
       "        text-align: right;\n",
       "    }\n",
       "</style>\n",
       "<table border=\"1\" class=\"dataframe\">\n",
       "  <thead>\n",
       "    <tr style=\"text-align: right;\">\n",
       "      <th></th>\n",
       "      <th>Unnamed: 0</th>\n",
       "      <th>State</th>\n",
       "      <th>Year</th>\n",
       "      <th>Rape</th>\n",
       "      <th>K&amp;A</th>\n",
       "      <th>DD</th>\n",
       "      <th>AoW</th>\n",
       "      <th>AoM</th>\n",
       "      <th>DV</th>\n",
       "      <th>WT</th>\n",
       "    </tr>\n",
       "  </thead>\n",
       "  <tbody>\n",
       "    <tr>\n",
       "      <th>686</th>\n",
       "      <td>686</td>\n",
       "      <td>Sikkim</td>\n",
       "      <td>2020</td>\n",
       "      <td>389</td>\n",
       "      <td>633</td>\n",
       "      <td>40</td>\n",
       "      <td>892</td>\n",
       "      <td>31</td>\n",
       "      <td>689</td>\n",
       "      <td>231</td>\n",
       "    </tr>\n",
       "    <tr>\n",
       "      <th>674</th>\n",
       "      <td>674</td>\n",
       "      <td>Jharkhand</td>\n",
       "      <td>2020</td>\n",
       "      <td>504</td>\n",
       "      <td>923</td>\n",
       "      <td>176</td>\n",
       "      <td>4751</td>\n",
       "      <td>70</td>\n",
       "      <td>2055</td>\n",
       "      <td>159</td>\n",
       "    </tr>\n",
       "    <tr>\n",
       "      <th>677</th>\n",
       "      <td>677</td>\n",
       "      <td>Madhya Pradesh</td>\n",
       "      <td>2020</td>\n",
       "      <td>2061</td>\n",
       "      <td>5254</td>\n",
       "      <td>197</td>\n",
       "      <td>9965</td>\n",
       "      <td>969</td>\n",
       "      <td>6729</td>\n",
       "      <td>85</td>\n",
       "    </tr>\n",
       "    <tr>\n",
       "      <th>684</th>\n",
       "      <td>684</td>\n",
       "      <td>Punjab</td>\n",
       "      <td>2020</td>\n",
       "      <td>5310</td>\n",
       "      <td>4739</td>\n",
       "      <td>479</td>\n",
       "      <td>8661</td>\n",
       "      <td>85</td>\n",
       "      <td>13765</td>\n",
       "      <td>67</td>\n",
       "    </tr>\n",
       "    <tr>\n",
       "      <th>691</th>\n",
       "      <td>691</td>\n",
       "      <td>Uttarakhand</td>\n",
       "      <td>2020</td>\n",
       "      <td>1128</td>\n",
       "      <td>7740</td>\n",
       "      <td>522</td>\n",
       "      <td>2488</td>\n",
       "      <td>446</td>\n",
       "      <td>19962</td>\n",
       "      <td>52</td>\n",
       "    </tr>\n",
       "    <tr>\n",
       "      <th>664</th>\n",
       "      <td>664</td>\n",
       "      <td>Andhra Pradesh</td>\n",
       "      <td>2020</td>\n",
       "      <td>1095</td>\n",
       "      <td>534</td>\n",
       "      <td>111</td>\n",
       "      <td>4886</td>\n",
       "      <td>2342</td>\n",
       "      <td>6546</td>\n",
       "      <td>48</td>\n",
       "    </tr>\n",
       "    <tr>\n",
       "      <th>670</th>\n",
       "      <td>670</td>\n",
       "      <td>Gujarat</td>\n",
       "      <td>2020</td>\n",
       "      <td>486</td>\n",
       "      <td>597</td>\n",
       "      <td>6</td>\n",
       "      <td>846</td>\n",
       "      <td>17</td>\n",
       "      <td>3345</td>\n",
       "      <td>47</td>\n",
       "    </tr>\n",
       "    <tr>\n",
       "      <th>667</th>\n",
       "      <td>667</td>\n",
       "      <td>Bihar</td>\n",
       "      <td>2020</td>\n",
       "      <td>806</td>\n",
       "      <td>6671</td>\n",
       "      <td>1046</td>\n",
       "      <td>584</td>\n",
       "      <td>6</td>\n",
       "      <td>1935</td>\n",
       "      <td>30</td>\n",
       "    </tr>\n",
       "    <tr>\n",
       "      <th>671</th>\n",
       "      <td>671</td>\n",
       "      <td>Haryana</td>\n",
       "      <td>2020</td>\n",
       "      <td>1373</td>\n",
       "      <td>2423</td>\n",
       "      <td>251</td>\n",
       "      <td>2339</td>\n",
       "      <td>183</td>\n",
       "      <td>4119</td>\n",
       "      <td>28</td>\n",
       "    </tr>\n",
       "    <tr>\n",
       "      <th>689</th>\n",
       "      <td>689</td>\n",
       "      <td>Tripura</td>\n",
       "      <td>2020</td>\n",
       "      <td>2769</td>\n",
       "      <td>9109</td>\n",
       "      <td>2274</td>\n",
       "      <td>9864</td>\n",
       "      <td>28</td>\n",
       "      <td>14454</td>\n",
       "      <td>25</td>\n",
       "    </tr>\n",
       "    <tr>\n",
       "      <th>682</th>\n",
       "      <td>682</td>\n",
       "      <td>Nagaland</td>\n",
       "      <td>2020</td>\n",
       "      <td>1211</td>\n",
       "      <td>3775</td>\n",
       "      <td>320</td>\n",
       "      <td>12605</td>\n",
       "      <td>615</td>\n",
       "      <td>3659</td>\n",
       "      <td>19</td>\n",
       "    </tr>\n",
       "    <tr>\n",
       "      <th>666</th>\n",
       "      <td>666</td>\n",
       "      <td>Assam</td>\n",
       "      <td>2020</td>\n",
       "      <td>1657</td>\n",
       "      <td>5364</td>\n",
       "      <td>148</td>\n",
       "      <td>4642</td>\n",
       "      <td>90</td>\n",
       "      <td>11408</td>\n",
       "      <td>18</td>\n",
       "    </tr>\n",
       "    <tr>\n",
       "      <th>676</th>\n",
       "      <td>676</td>\n",
       "      <td>Kerala</td>\n",
       "      <td>2020</td>\n",
       "      <td>2339</td>\n",
       "      <td>4782</td>\n",
       "      <td>608</td>\n",
       "      <td>5378</td>\n",
       "      <td>200</td>\n",
       "      <td>5540</td>\n",
       "      <td>14</td>\n",
       "    </tr>\n",
       "    <tr>\n",
       "      <th>687</th>\n",
       "      <td>687</td>\n",
       "      <td>Tamil Nadu</td>\n",
       "      <td>2020</td>\n",
       "      <td>764</td>\n",
       "      <td>1314</td>\n",
       "      <td>158</td>\n",
       "      <td>4907</td>\n",
       "      <td>565</td>\n",
       "      <td>7453</td>\n",
       "      <td>13</td>\n",
       "    </tr>\n",
       "    <tr>\n",
       "      <th>683</th>\n",
       "      <td>683</td>\n",
       "      <td>Odisha</td>\n",
       "      <td>2020</td>\n",
       "      <td>502</td>\n",
       "      <td>1241</td>\n",
       "      <td>63</td>\n",
       "      <td>731</td>\n",
       "      <td>28</td>\n",
       "      <td>1271</td>\n",
       "      <td>11</td>\n",
       "    </tr>\n",
       "    <tr>\n",
       "      <th>690</th>\n",
       "      <td>690</td>\n",
       "      <td>Uttar Pradesh</td>\n",
       "      <td>2020</td>\n",
       "      <td>487</td>\n",
       "      <td>349</td>\n",
       "      <td>65</td>\n",
       "      <td>474</td>\n",
       "      <td>43</td>\n",
       "      <td>668</td>\n",
       "      <td>8</td>\n",
       "    </tr>\n",
       "    <tr>\n",
       "      <th>675</th>\n",
       "      <td>675</td>\n",
       "      <td>Karnataka</td>\n",
       "      <td>2020</td>\n",
       "      <td>637</td>\n",
       "      <td>151</td>\n",
       "      <td>6</td>\n",
       "      <td>3890</td>\n",
       "      <td>442</td>\n",
       "      <td>2707</td>\n",
       "      <td>5</td>\n",
       "    </tr>\n",
       "    <tr>\n",
       "      <th>695</th>\n",
       "      <td>695</td>\n",
       "      <td>D&amp;N Haveli</td>\n",
       "      <td>2020</td>\n",
       "      <td>997</td>\n",
       "      <td>2938</td>\n",
       "      <td>110</td>\n",
       "      <td>1840</td>\n",
       "      <td>416</td>\n",
       "      <td>2557</td>\n",
       "      <td>3</td>\n",
       "    </tr>\n",
       "    <tr>\n",
       "      <th>668</th>\n",
       "      <td>668</td>\n",
       "      <td>Chhattisgarh</td>\n",
       "      <td>2020</td>\n",
       "      <td>1210</td>\n",
       "      <td>1341</td>\n",
       "      <td>71</td>\n",
       "      <td>1461</td>\n",
       "      <td>279</td>\n",
       "      <td>641</td>\n",
       "      <td>3</td>\n",
       "    </tr>\n",
       "    <tr>\n",
       "      <th>673</th>\n",
       "      <td>673</td>\n",
       "      <td>Jammu &amp; Kashmir</td>\n",
       "      <td>2020</td>\n",
       "      <td>1321</td>\n",
       "      <td>993</td>\n",
       "      <td>275</td>\n",
       "      <td>1358</td>\n",
       "      <td>6</td>\n",
       "      <td>857</td>\n",
       "      <td>2</td>\n",
       "    </tr>\n",
       "    <tr>\n",
       "      <th>669</th>\n",
       "      <td>669</td>\n",
       "      <td>Goa</td>\n",
       "      <td>2020</td>\n",
       "      <td>60</td>\n",
       "      <td>31</td>\n",
       "      <td>0</td>\n",
       "      <td>67</td>\n",
       "      <td>35</td>\n",
       "      <td>8</td>\n",
       "      <td>0</td>\n",
       "    </tr>\n",
       "    <tr>\n",
       "      <th>672</th>\n",
       "      <td>672</td>\n",
       "      <td>Himachal Pradesh</td>\n",
       "      <td>2020</td>\n",
       "      <td>331</td>\n",
       "      <td>281</td>\n",
       "      <td>1</td>\n",
       "      <td>538</td>\n",
       "      <td>88</td>\n",
       "      <td>259</td>\n",
       "      <td>0</td>\n",
       "    </tr>\n",
       "    <tr>\n",
       "      <th>665</th>\n",
       "      <td>665</td>\n",
       "      <td>Arunachal Pradesh</td>\n",
       "      <td>2020</td>\n",
       "      <td>60</td>\n",
       "      <td>45</td>\n",
       "      <td>0</td>\n",
       "      <td>73</td>\n",
       "      <td>3</td>\n",
       "      <td>69</td>\n",
       "      <td>0</td>\n",
       "    </tr>\n",
       "    <tr>\n",
       "      <th>699</th>\n",
       "      <td>699</td>\n",
       "      <td>Puducherry</td>\n",
       "      <td>2020</td>\n",
       "      <td>8</td>\n",
       "      <td>0</td>\n",
       "      <td>2</td>\n",
       "      <td>25</td>\n",
       "      <td>0</td>\n",
       "      <td>9</td>\n",
       "      <td>0</td>\n",
       "    </tr>\n",
       "    <tr>\n",
       "      <th>678</th>\n",
       "      <td>678</td>\n",
       "      <td>Maharashtra</td>\n",
       "      <td>2020</td>\n",
       "      <td>32</td>\n",
       "      <td>49</td>\n",
       "      <td>1</td>\n",
       "      <td>61</td>\n",
       "      <td>8</td>\n",
       "      <td>7</td>\n",
       "      <td>0</td>\n",
       "    </tr>\n",
       "    <tr>\n",
       "      <th>679</th>\n",
       "      <td>679</td>\n",
       "      <td>Manipur</td>\n",
       "      <td>2020</td>\n",
       "      <td>67</td>\n",
       "      <td>29</td>\n",
       "      <td>1</td>\n",
       "      <td>86</td>\n",
       "      <td>16</td>\n",
       "      <td>17</td>\n",
       "      <td>0</td>\n",
       "    </tr>\n",
       "    <tr>\n",
       "      <th>680</th>\n",
       "      <td>680</td>\n",
       "      <td>Meghalaya</td>\n",
       "      <td>2020</td>\n",
       "      <td>33</td>\n",
       "      <td>1</td>\n",
       "      <td>0</td>\n",
       "      <td>26</td>\n",
       "      <td>3</td>\n",
       "      <td>7</td>\n",
       "      <td>0</td>\n",
       "    </tr>\n",
       "    <tr>\n",
       "      <th>698</th>\n",
       "      <td>698</td>\n",
       "      <td>Lakshadweep</td>\n",
       "      <td>2020</td>\n",
       "      <td>3</td>\n",
       "      <td>0</td>\n",
       "      <td>0</td>\n",
       "      <td>3</td>\n",
       "      <td>1</td>\n",
       "      <td>0</td>\n",
       "      <td>0</td>\n",
       "    </tr>\n",
       "    <tr>\n",
       "      <th>685</th>\n",
       "      <td>685</td>\n",
       "      <td>Rajasthan</td>\n",
       "      <td>2020</td>\n",
       "      <td>12</td>\n",
       "      <td>11</td>\n",
       "      <td>0</td>\n",
       "      <td>18</td>\n",
       "      <td>0</td>\n",
       "      <td>1</td>\n",
       "      <td>0</td>\n",
       "    </tr>\n",
       "    <tr>\n",
       "      <th>688</th>\n",
       "      <td>688</td>\n",
       "      <td>Telangana</td>\n",
       "      <td>2020</td>\n",
       "      <td>79</td>\n",
       "      <td>110</td>\n",
       "      <td>23</td>\n",
       "      <td>115</td>\n",
       "      <td>3</td>\n",
       "      <td>356</td>\n",
       "      <td>0</td>\n",
       "    </tr>\n",
       "    <tr>\n",
       "      <th>692</th>\n",
       "      <td>692</td>\n",
       "      <td>West Bengal</td>\n",
       "      <td>2020</td>\n",
       "      <td>2</td>\n",
       "      <td>1</td>\n",
       "      <td>0</td>\n",
       "      <td>15</td>\n",
       "      <td>3</td>\n",
       "      <td>2</td>\n",
       "      <td>0</td>\n",
       "    </tr>\n",
       "    <tr>\n",
       "      <th>693</th>\n",
       "      <td>693</td>\n",
       "      <td>A &amp; N Islands</td>\n",
       "      <td>2020</td>\n",
       "      <td>60</td>\n",
       "      <td>90</td>\n",
       "      <td>1</td>\n",
       "      <td>42</td>\n",
       "      <td>4</td>\n",
       "      <td>96</td>\n",
       "      <td>0</td>\n",
       "    </tr>\n",
       "    <tr>\n",
       "      <th>694</th>\n",
       "      <td>694</td>\n",
       "      <td>Chandigarh</td>\n",
       "      <td>2020</td>\n",
       "      <td>4</td>\n",
       "      <td>0</td>\n",
       "      <td>1</td>\n",
       "      <td>6</td>\n",
       "      <td>3</td>\n",
       "      <td>4</td>\n",
       "      <td>0</td>\n",
       "    </tr>\n",
       "    <tr>\n",
       "      <th>696</th>\n",
       "      <td>696</td>\n",
       "      <td>Daman &amp; Diu</td>\n",
       "      <td>2020</td>\n",
       "      <td>243</td>\n",
       "      <td>775</td>\n",
       "      <td>9</td>\n",
       "      <td>1744</td>\n",
       "      <td>35</td>\n",
       "      <td>349</td>\n",
       "      <td>0</td>\n",
       "    </tr>\n",
       "    <tr>\n",
       "      <th>697</th>\n",
       "      <td>697</td>\n",
       "      <td>Delhi UT</td>\n",
       "      <td>2020</td>\n",
       "      <td>2</td>\n",
       "      <td>0</td>\n",
       "      <td>0</td>\n",
       "      <td>4</td>\n",
       "      <td>0</td>\n",
       "      <td>3</td>\n",
       "      <td>0</td>\n",
       "    </tr>\n",
       "    <tr>\n",
       "      <th>681</th>\n",
       "      <td>681</td>\n",
       "      <td>Mizoram</td>\n",
       "      <td>2020</td>\n",
       "      <td>4</td>\n",
       "      <td>6</td>\n",
       "      <td>1</td>\n",
       "      <td>7</td>\n",
       "      <td>2</td>\n",
       "      <td>2</td>\n",
       "      <td>0</td>\n",
       "    </tr>\n",
       "  </tbody>\n",
       "</table>\n",
       "</div>"
      ],
      "text/plain": [
       "     Unnamed: 0              State  Year  Rape   K&A    DD    AoW   AoM   \n",
       "686         686             Sikkim  2020   389   633    40    892    31  \\\n",
       "674         674          Jharkhand  2020   504   923   176   4751    70   \n",
       "677         677     Madhya Pradesh  2020  2061  5254   197   9965   969   \n",
       "684         684             Punjab  2020  5310  4739   479   8661    85   \n",
       "691         691        Uttarakhand  2020  1128  7740   522   2488   446   \n",
       "664         664     Andhra Pradesh  2020  1095   534   111   4886  2342   \n",
       "670         670            Gujarat  2020   486   597     6    846    17   \n",
       "667         667              Bihar  2020   806  6671  1046    584     6   \n",
       "671         671            Haryana  2020  1373  2423   251   2339   183   \n",
       "689         689            Tripura  2020  2769  9109  2274   9864    28   \n",
       "682         682           Nagaland  2020  1211  3775   320  12605   615   \n",
       "666         666              Assam  2020  1657  5364   148   4642    90   \n",
       "676         676             Kerala  2020  2339  4782   608   5378   200   \n",
       "687         687         Tamil Nadu  2020   764  1314   158   4907   565   \n",
       "683         683             Odisha  2020   502  1241    63    731    28   \n",
       "690         690      Uttar Pradesh  2020   487   349    65    474    43   \n",
       "675         675          Karnataka  2020   637   151     6   3890   442   \n",
       "695         695         D&N Haveli  2020   997  2938   110   1840   416   \n",
       "668         668       Chhattisgarh  2020  1210  1341    71   1461   279   \n",
       "673         673    Jammu & Kashmir  2020  1321   993   275   1358     6   \n",
       "669         669                Goa  2020    60    31     0     67    35   \n",
       "672         672   Himachal Pradesh  2020   331   281     1    538    88   \n",
       "665         665  Arunachal Pradesh  2020    60    45     0     73     3   \n",
       "699         699         Puducherry  2020     8     0     2     25     0   \n",
       "678         678        Maharashtra  2020    32    49     1     61     8   \n",
       "679         679            Manipur  2020    67    29     1     86    16   \n",
       "680         680          Meghalaya  2020    33     1     0     26     3   \n",
       "698         698        Lakshadweep  2020     3     0     0      3     1   \n",
       "685         685          Rajasthan  2020    12    11     0     18     0   \n",
       "688         688          Telangana  2020    79   110    23    115     3   \n",
       "692         692        West Bengal  2020     2     1     0     15     3   \n",
       "693         693      A & N Islands  2020    60    90     1     42     4   \n",
       "694         694         Chandigarh  2020     4     0     1      6     3   \n",
       "696         696        Daman & Diu  2020   243   775     9   1744    35   \n",
       "697         697           Delhi UT  2020     2     0     0      4     0   \n",
       "681         681            Mizoram  2020     4     6     1      7     2   \n",
       "\n",
       "        DV   WT  \n",
       "686    689  231  \n",
       "674   2055  159  \n",
       "677   6729   85  \n",
       "684  13765   67  \n",
       "691  19962   52  \n",
       "664   6546   48  \n",
       "670   3345   47  \n",
       "667   1935   30  \n",
       "671   4119   28  \n",
       "689  14454   25  \n",
       "682   3659   19  \n",
       "666  11408   18  \n",
       "676   5540   14  \n",
       "687   7453   13  \n",
       "683   1271   11  \n",
       "690    668    8  \n",
       "675   2707    5  \n",
       "695   2557    3  \n",
       "668    641    3  \n",
       "673    857    2  \n",
       "669      8    0  \n",
       "672    259    0  \n",
       "665     69    0  \n",
       "699      9    0  \n",
       "678      7    0  \n",
       "679     17    0  \n",
       "680      7    0  \n",
       "698      0    0  \n",
       "685      1    0  \n",
       "688    356    0  \n",
       "692      2    0  \n",
       "693     96    0  \n",
       "694      4    0  \n",
       "696    349    0  \n",
       "697      3    0  \n",
       "681      2    0  "
      ]
     },
     "execution_count": 60,
     "metadata": {},
     "output_type": "execute_result"
    }
   ],
   "source": [
    "rows = df[df[\"Year\"] == 2020]\n",
    "\n",
    "rows.sort_values(\"WT\").iloc[: : -1]"
   ]
  },
  {
   "cell_type": "markdown",
   "id": "a24c2f59-eeaf-47fd-8224-1023d1a8edeb",
   "metadata": {},
   "source": [
    "Перейдем к следующему набору данных.\n",
    "\n",
    "Файл: `CustomerPurchasingBehaviors.csv`\n",
    "\n",
    "Этот набор данных содержит информацию о профилях клиентов и их покупательском поведении. Данные содержат столбцы, содержащие идентификатор пользователя, возраст, годовой доход, сумму покупки, показатель лояльности (в разбивке по классам), регион и частоту покупок. Он предназначен для анализа тенденций сегментации клиентов и лояльности и может быть использован для различных задач машинного обучения и анализа данных, связанных с поведением клиентов и исследованиями рынка.\n",
    "\n",
    "```\n",
    "user_id - ID клиента\n",
    "age - Возраст\n",
    "annual_income - Годовой доход клиента (в долларах США).\n",
    "purchase_amount - Общая сумма покупок, совершенных клиентом (в долларах США).\n",
    "loyalty_score - Показатель лояльности клиента (значение от 0 до 100).\n",
    "region - Регион, в котором проживает клиент (Север, Юг, Восток, Запад).\n",
    "purchase_frequency - Частота покупок клиентов (количество раз в год).\n",
    "```"
   ]
  },
  {
   "cell_type": "markdown",
   "id": "f563cc38",
   "metadata": {},
   "source": [
    "loyalty_score имеет значения от 0 до 10"
   ]
  },
  {
   "cell_type": "code",
   "execution_count": 61,
   "id": "c2f41ff4",
   "metadata": {},
   "outputs": [
    {
     "name": "stdout",
     "output_type": "stream",
     "text": [
      "3.0 9.5\n"
     ]
    },
    {
     "data": {
      "text/html": [
       "<div>\n",
       "<style scoped>\n",
       "    .dataframe tbody tr th:only-of-type {\n",
       "        vertical-align: middle;\n",
       "    }\n",
       "\n",
       "    .dataframe tbody tr th {\n",
       "        vertical-align: top;\n",
       "    }\n",
       "\n",
       "    .dataframe thead th {\n",
       "        text-align: right;\n",
       "    }\n",
       "</style>\n",
       "<table border=\"1\" class=\"dataframe\">\n",
       "  <thead>\n",
       "    <tr style=\"text-align: right;\">\n",
       "      <th></th>\n",
       "      <th>user_id</th>\n",
       "      <th>age</th>\n",
       "      <th>annual_income</th>\n",
       "      <th>purchase_amount</th>\n",
       "      <th>loyalty_score</th>\n",
       "      <th>region</th>\n",
       "      <th>purchase_frequency</th>\n",
       "    </tr>\n",
       "  </thead>\n",
       "  <tbody>\n",
       "    <tr>\n",
       "      <th>0</th>\n",
       "      <td>1</td>\n",
       "      <td>25</td>\n",
       "      <td>45000</td>\n",
       "      <td>200</td>\n",
       "      <td>4.5</td>\n",
       "      <td>North</td>\n",
       "      <td>12</td>\n",
       "    </tr>\n",
       "    <tr>\n",
       "      <th>1</th>\n",
       "      <td>2</td>\n",
       "      <td>34</td>\n",
       "      <td>55000</td>\n",
       "      <td>350</td>\n",
       "      <td>7.0</td>\n",
       "      <td>South</td>\n",
       "      <td>18</td>\n",
       "    </tr>\n",
       "    <tr>\n",
       "      <th>2</th>\n",
       "      <td>3</td>\n",
       "      <td>45</td>\n",
       "      <td>65000</td>\n",
       "      <td>500</td>\n",
       "      <td>8.0</td>\n",
       "      <td>West</td>\n",
       "      <td>22</td>\n",
       "    </tr>\n",
       "    <tr>\n",
       "      <th>3</th>\n",
       "      <td>4</td>\n",
       "      <td>22</td>\n",
       "      <td>30000</td>\n",
       "      <td>150</td>\n",
       "      <td>3.0</td>\n",
       "      <td>East</td>\n",
       "      <td>10</td>\n",
       "    </tr>\n",
       "    <tr>\n",
       "      <th>4</th>\n",
       "      <td>5</td>\n",
       "      <td>29</td>\n",
       "      <td>47000</td>\n",
       "      <td>220</td>\n",
       "      <td>4.8</td>\n",
       "      <td>North</td>\n",
       "      <td>13</td>\n",
       "    </tr>\n",
       "  </tbody>\n",
       "</table>\n",
       "</div>"
      ],
      "text/plain": [
       "   user_id  age  annual_income  purchase_amount  loyalty_score region   \n",
       "0        1   25          45000              200            4.5  North  \\\n",
       "1        2   34          55000              350            7.0  South   \n",
       "2        3   45          65000              500            8.0   West   \n",
       "3        4   22          30000              150            3.0   East   \n",
       "4        5   29          47000              220            4.8  North   \n",
       "\n",
       "   purchase_frequency  \n",
       "0                  12  \n",
       "1                  18  \n",
       "2                  22  \n",
       "3                  10  \n",
       "4                  13  "
      ]
     },
     "execution_count": 61,
     "metadata": {},
     "output_type": "execute_result"
    }
   ],
   "source": [
    "# Load dataset here\n",
    "df = pd.read_csv(\"CustomerPurchasingBehaviors.csv\")\n",
    "\n",
    "print(df[\"loyalty_score\"].min(), df[\"loyalty_score\"].max())\n",
    "df.head(5)"
   ]
  },
  {
   "cell_type": "code",
   "execution_count": null,
   "id": "7407fc92-f656-44b4-bc3a-b86d0a8664ea",
   "metadata": {},
   "outputs": [],
   "source": []
  },
  {
   "cell_type": "markdown",
   "id": "1d447d6e-cfde-411c-9078-cd8f41f02d8b",
   "metadata": {},
   "source": [
    "8. Какой средний годовой доход у клиентов с уровнем лояльности больше 50 живущих на севере"
   ]
  },
  {
   "cell_type": "code",
   "execution_count": 62,
   "id": "b30df6b1-5eca-43da-a115-1c1a3cbfd899",
   "metadata": {},
   "outputs": [
    {
     "data": {
      "text/plain": [
       "60146.34146341463"
      ]
     },
     "execution_count": 62,
     "metadata": {},
     "output_type": "execute_result"
    }
   ],
   "source": [
    "df[(df[\"loyalty_score\"] > 5) & (df[\"region\"] == \"North\")][\"annual_income\"].mean()"
   ]
  },
  {
   "cell_type": "markdown",
   "id": "c41d5d99-65f7-4d17-82ae-971ec959f327",
   "metadata": {},
   "source": [
    "9. Выведите 25 и 75 перцентили уровня лоальности клиентов живущих на западе с частотой покупок более 20 раз в год"
   ]
  },
  {
   "cell_type": "code",
   "execution_count": 63,
   "id": "275bcc04-659b-4521-a9e5-200a5f4ef674",
   "metadata": {},
   "outputs": [
    {
     "data": {
      "text/plain": [
       "0.25    8.5\n",
       "0.75    9.2\n",
       "Name: loyalty_score, dtype: float64"
      ]
     },
     "execution_count": 63,
     "metadata": {},
     "output_type": "execute_result"
    }
   ],
   "source": [
    "df[(df[\"region\"] == \"West\") & (df[\"purchase_frequency\"] > 20)][\"loyalty_score\"].quantile(q=[0.25, 0.75])"
   ]
  },
  {
   "cell_type": "markdown",
   "id": "a1f7a5c0-259c-4837-a5d1-2dfc05e7c13e",
   "metadata": {},
   "source": [
    "10. Отличается ли медианный возраст клиентов с уровнем лояльности более 70 и менее 10 для жителей Востока и Севера."
   ]
  },
  {
   "cell_type": "code",
   "execution_count": 64,
   "id": "a2da4d57-edb4-4179-8bee-3deda6cd00e6",
   "metadata": {},
   "outputs": [
    {
     "name": "stdout",
     "output_type": "stream",
     "text": [
      "40.0 nan\n"
     ]
    },
    {
     "data": {
      "text/plain": [
       "True"
      ]
     },
     "execution_count": 64,
     "metadata": {},
     "output_type": "execute_result"
    }
   ],
   "source": [
    "first = df[(df[\"loyalty_score\"] > 7) & (df[\"region\"] == \"East\")]\n",
    "second = df[(df[\"loyalty_score\"] < 1) & (df[\"region\"] == \"North\")]\n",
    "first_median, second_median = first[\"age\"].quantile(0.5), second[\"age\"].quantile(0.5)\n",
    "\n",
    "print(first_median, second_median) # В датасете вроде бы нет никого с уровнем лояльности меньше 10\n",
    "first_median != second_median"
   ]
  },
  {
   "cell_type": "markdown",
   "id": "deb4ca3a-3d8a-4205-bee9-d26fd28638b2",
   "metadata": {},
   "source": [
    "### 3. Визуализация"
   ]
  },
  {
   "cell_type": "markdown",
   "id": "f8941ce1-cbf2-465a-b013-1b84aeb999ef",
   "metadata": {},
   "source": [
    "Используя библиотеки matplotlib/sns/plotly/pandas и набор данных представленный ранее визуализируйте"
   ]
  },
  {
   "cell_type": "markdown",
   "id": "5e98ce6f-8d02-4120-ad85-241494c038d6",
   "metadata": {},
   "source": [
    "1. Постройте диаграмму которая отражает средний уровень лояльности во всех регионах"
   ]
  },
  {
   "cell_type": "code",
   "execution_count": 76,
   "id": "664666b2-17b7-49dd-a3bd-c4be9361755d",
   "metadata": {},
   "outputs": [
    {
     "name": "stdout",
     "output_type": "stream",
     "text": [
      "           user_id        age  annual_income  purchase_amount  loyalty_score   \n",
      "region                                                                         \n",
      "East     16.833333  31.666667   49000.000000       320.000000       5.400000  \\\n",
      "North   122.141026  34.358974   53038.461538       358.589744       5.865385   \n",
      "South   121.649351  38.000000   55766.233766       416.883117       6.725974   \n",
      "West    122.675325  44.272727   64129.870130       510.519481       7.911688   \n",
      "\n",
      "        purchase_frequency  \n",
      "region                      \n",
      "East             16.666667  \n",
      "North            17.653846  \n",
      "South            19.467532  \n",
      "West             22.545455  \n"
     ]
    },
    {
     "data": {
      "text/plain": [
       "<Axes: xlabel='region', ylabel='loyalty_score'>"
      ]
     },
     "execution_count": 76,
     "metadata": {},
     "output_type": "execute_result"
    },
    {
     "data": {
      "image/png": "[encoded data removed]",
      "text/plain": [
       "<Figure size 640x480 with 1 Axes>"
      ]
     },
     "metadata": {},
     "output_type": "display_data"
    }
   ],
   "source": [
    "import matplotlib.pyplot as plt\n",
    "import seaborn as sns\n",
    "\n",
    "df1 = pd.read_csv('CrimesOnWomenData.csv')\n",
    "df2 = pd.read_csv(\"CustomerPurchasingBehaviors.csv\")\n",
    "\n",
    "mean = df2.groupby(\"region\").mean()\n",
    "print(mean)\n",
    "sns.barplot(df2, y=\"loyalty_score\", x = \"region\")"
   ]
  },
  {
   "cell_type": "markdown",
   "id": "4c7500bb-36ca-4ea7-bc3c-4f15afbd4c41",
   "metadata": {},
   "source": [
    "2. Постройте гистограмму распределения зарплат клиентов на Севере."
   ]
  },
  {
   "cell_type": "code",
   "execution_count": 66,
   "id": "7325e7f8-5f00-4a82-8184-7064505f7ccd",
   "metadata": {},
   "outputs": [
    {
     "data": {
      "text/plain": [
       "<Axes: xlabel='annual_income', ylabel='Count'>"
      ]
     },
     "execution_count": 66,
     "metadata": {},
     "output_type": "execute_result"
    },
    {
     "data": {
      "image/png": "[encoded data removed]",
      "text/plain": [
       "<Figure size 640x480 with 1 Axes>"
      ]
     },
     "metadata": {},
     "output_type": "display_data"
    }
   ],
   "source": [
    "fees = df2[df2[\"region\"] == \"North\"]\n",
    "\n",
    "sns.histplot(fees, x=\"annual_income\")"
   ]
  },
  {
   "cell_type": "markdown",
   "id": "efdd0669-36e0-4708-ac6b-ad0d92881113",
   "metadata": {},
   "source": [
    "3. Сравните уровни зарплат людей на севере и юге."
   ]
  },
  {
   "cell_type": "code",
   "execution_count": 67,
   "id": "7504a170-04a1-4b86-924d-8d46be16fd3c",
   "metadata": {},
   "outputs": [
    {
     "data": {
      "text/plain": [
       "<Axes: xlabel='annual_income', ylabel='Count'>"
      ]
     },
     "execution_count": 67,
     "metadata": {},
     "output_type": "execute_result"
    },
    {
     "data": {
      "image/png": "[encoded data removed]",
      "text/plain": [
       "<Figure size 640x480 with 1 Axes>"
      ]
     },
     "metadata": {},
     "output_type": "display_data"
    }
   ],
   "source": [
    "fees = df2[(df2[\"region\"] == \"North\") | (df2[\"region\"] == \"South\")]\n",
    "\n",
    "sns.histplot(fees, x=\"annual_income\", hue=\"region\")"
   ]
  },
  {
   "cell_type": "markdown",
   "id": "b5839a48-e992-45fc-81ee-59cb5aa79dda",
   "metadata": {},
   "source": [
    "4. Постройте box plot отображающий распределение уровня лояльности для людей до 20 лет, от 20 до 40, от 40 до 60 и старше 60 лет"
   ]
  },
  {
   "cell_type": "code",
   "execution_count": 68,
   "id": "1a942378-45ea-47a0-bac9-488960491613",
   "metadata": {},
   "outputs": [
    {
     "data": {
      "text/plain": [
       "<Axes: xlabel='age_class', ylabel='loyalty_score'>"
      ]
     },
     "execution_count": 68,
     "metadata": {},
     "output_type": "execute_result"
    },
    {
     "data": {
      "image/png": "[encoded data removed]",
      "text/plain": [
       "<Figure size 640x480 with 1 Axes>"
      ]
     },
     "metadata": {},
     "output_type": "display_data"
    }
   ],
   "source": [
    "df2[\"age_class\"] = np.where(df2[\"age\"] < 20, \"below20\",\n",
    "  np.where((df2[\"age\"] >= 20) & (df2[\"age\"] < 40), \"between20_40\", \n",
    "  np.where((df2[\"age\"] >= 40) & (df2[\"age\"] < 60), \"between40_60\",\"higher60\")))\n",
    "\n",
    "sns.boxplot(df2, x=\"age_class\", y = \"loyalty_score\")\n"
   ]
  },
  {
   "cell_type": "markdown",
   "id": "d4c97bef-bb64-43cc-a89f-7510174492ec",
   "metadata": {},
   "source": [
    "5. Визуализируйте зависимость частоты покупок от заработка"
   ]
  },
  {
   "cell_type": "code",
   "execution_count": 69,
   "id": "a1f444af-3544-432c-8dc6-bb74d4cff272",
   "metadata": {},
   "outputs": [
    {
     "data": {
      "text/plain": [
       "<Axes: xlabel='purchase_frequency', ylabel='annual_income'>"
      ]
     },
     "execution_count": 69,
     "metadata": {},
     "output_type": "execute_result"
    },
    {
     "data": {
      "image/png": "[encoded data removed]",
      "text/plain": [
       "<Figure size 640x480 with 1 Axes>"
      ]
     },
     "metadata": {},
     "output_type": "display_data"
    }
   ],
   "source": [
    "sns.lineplot(df2, x=\"purchase_frequency\", y=\"annual_income\")"
   ]
  },
  {
   "cell_type": "markdown",
   "id": "a2ab764c-8ac1-4c5a-93ad-8168b0eb4934",
   "metadata": {},
   "source": [
    "6. Визуализируйте как зависит сумма покупок от зарплаты клиента"
   ]
  },
  {
   "cell_type": "code",
   "execution_count": 70,
   "id": "6449e306-fb6c-46d4-bcd8-b6b76fbf69d2",
   "metadata": {},
   "outputs": [
    {
     "data": {
      "text/plain": [
       "<Axes: xlabel='purchase_amount', ylabel='annual_income'>"
      ]
     },
     "execution_count": 70,
     "metadata": {},
     "output_type": "execute_result"
    },
    {
     "data": {
      "image/png": "[encoded data removed]",
      "text/plain": [
       "<Figure size 640x480 with 1 Axes>"
      ]
     },
     "metadata": {},
     "output_type": "display_data"
    }
   ],
   "source": [
    "sns.lineplot(df2, x=\"purchase_amount\", y=\"annual_income\")"
   ]
  },
  {
   "cell_type": "markdown",
   "id": "16afdeec-8c90-4ed1-a599-e0b1343bbf5c",
   "metadata": {},
   "source": [
    "7. Придумайте как визуализировать зависимость между частотой покупок, суммой покупок и скором лояльности *\n",
    "\n",
    "\\* Задание на доп. балл"
   ]
  },
  {
   "cell_type": "code",
   "execution_count": 71,
   "id": "e10d0cc7-a1ca-4204-a875-b1660e44618d",
   "metadata": {},
   "outputs": [
    {
     "data": {
      "text/plain": [
       "<Axes: xlabel='purchase_frequency', ylabel='purchase_amount'>"
      ]
     },
     "execution_count": 71,
     "metadata": {},
     "output_type": "execute_result"
    },
    {
     "data": {
      "image/png": "[encoded data removed]",
      "text/plain": [
       "<Figure size 640x480 with 1 Axes>"
      ]
     },
     "metadata": {},
     "output_type": "display_data"
    }
   ],
   "source": [
    "sns.scatterplot(df2, x=\"purchase_frequency\", y=\"purchase_amount\", hue=\"loyalty_score\")"
   ]
  }
 ],
 "metadata": {
  "kernelspec": {
   "display_name": "Python 3.9.0 64-bit",
   "language": "python",
   "name": "python3"
  },
  "language_info": {
   "codemirror_mode": {
    "name": "ipython",
    "version": 3
   },
   "file_extension": ".py",
   "mimetype": "text/x-python",
   "name": "python",
   "nbconvert_exporter": "python",
   "pygments_lexer": "ipython3",
   "version": "3.9.0"
  },
  "vscode": {
   "interpreter": {
    "hash": "81794d4967e6c3204c66dcd87b604927b115b27c00565d3d43f05ba2f3a2cb0d"
   }
  }
 },
 "nbformat": 4,
 "nbformat_minor": 5
}
